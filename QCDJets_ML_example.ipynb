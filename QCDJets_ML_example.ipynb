{
 "cells": [
  {
   "cell_type": "markdown",
   "metadata": {},
   "source": [
    "# CMS OpenData QCD Jets - Machine learning usage example\n",
    "\n",
    "This Jupyter Notebook provides examples on how to load the data sets and perform a simple machine learning classification task."
   ]
  },
  {
   "cell_type": "markdown",
   "metadata": {},
   "source": [
    "## Load the data set\n",
    "\n",
    "We begin by importing a few essential libraries and then loading one of the data sets."
   ]
  },
  {
   "cell_type": "code",
   "execution_count": 1,
   "metadata": {},
   "outputs": [],
   "source": [
    "%matplotlib inline\n",
    "\n",
    "import numpy as np\n",
    "import pandas as pd\n",
    "import matplotlib.pyplot as plt"
   ]
  },
  {
   "cell_type": "markdown",
   "metadata": {},
   "source": [
    "The data set is available in two formats: ROOT and HDF5. The former is predominantly used by the high energy physics community, while the latter is more familiar to data scientists and other users.\n",
    "\n",
    "The _uproot_ package can be used to read a .root file to Python without having to necessarily install the whole ROOT software."
   ]
  },
  {
   "cell_type": "markdown",
   "metadata": {},
   "source": [
    "Let see what files are available with the data set (there are h5 and root files available):"
   ]
  },
  {
   "cell_type": "code",
   "execution_count": 2,
   "metadata": {},
   "outputs": [
    {
     "name": "stdout",
     "output_type": "stream",
     "text": [
      "http://opendata.cern.ch/eos/opendata/cms/datascience/JetNtupleProducerTool/JetNTuple_QCD_RunII_13TeV_MC/JetNtuple_RunIISummer16_13TeV_MC_1.root\n",
      "http://opendata.cern.ch/eos/opendata/cms/datascience/JetNtupleProducerTool/JetNTuple_QCD_RunII_13TeV_MC/JetNtuple_RunIISummer16_13TeV_MC_10.root\n",
      "http://opendata.cern.ch/eos/opendata/cms/datascience/JetNtupleProducerTool/JetNTuple_QCD_RunII_13TeV_MC/JetNtuple_RunIISummer16_13TeV_MC_100.root\n",
      "http://opendata.cern.ch/eos/opendata/cms/datascience/JetNtupleProducerTool/JetNTuple_QCD_RunII_13TeV_MC/JetNtuple_RunIISummer16_13TeV_MC_101.root\n",
      "http://opendata.cern.ch/eos/opendata/cms/datascience/JetNtupleProducerTool/JetNTuple_QCD_RunII_13TeV_MC/JetNtuple_RunIISummer16_13TeV_MC_102.root\n",
      "http://opendata.cern.ch/eos/opendata/cms/datascience/JetNtupleProducerTool/JetNTuple_QCD_RunII_13TeV_MC/JetNtuple_RunIISummer16_13TeV_MC_103.root\n",
      "http://opendata.cern.ch/eos/opendata/cms/datascience/JetNtupleProducerTool/JetNTuple_QCD_RunII_13TeV_MC/JetNtuple_RunIISummer16_13TeV_MC_104.root\n",
      "http://opendata.cern.ch/eos/opendata/cms/datascience/JetNtupleProducerTool/JetNTuple_QCD_RunII_13TeV_MC/JetNtuple_RunIISummer16_13TeV_MC_105.root\n",
      "http://opendata.cern.ch/eos/opendata/cms/datascience/JetNtupleProducerTool/JetNTuple_QCD_RunII_13TeV_MC/JetNtuple_RunIISummer16_13TeV_MC_106.root\n",
      "http://opendata.cern.ch/eos/opendata/cms/datascience/JetNtupleProducerTool/JetNTuple_QCD_RunII_13TeV_MC/JetNtuple_RunIISummer16_13TeV_MC_107.root\n",
      "http://opendata.cern.ch/eos/opendata/cms/datascience/JetNtupleProducerTool/JetNTuple_QCD_RunII_13TeV_MC/JetNtuple_RunIISummer16_13TeV_MC_108.root\n",
      "http://opendata.cern.ch/eos/opendata/cms/datascience/JetNtupleProducerTool/JetNTuple_QCD_RunII_13TeV_MC/JetNtuple_RunIISummer16_13TeV_MC_109.root\n",
      "http://opendata.cern.ch/eos/opendata/cms/datascience/JetNtupleProducerTool/JetNTuple_QCD_RunII_13TeV_MC/JetNtuple_RunIISummer16_13TeV_MC_11.root\n",
      "http://opendata.cern.ch/eos/opendata/cms/datascience/JetNtupleProducerTool/JetNTuple_QCD_RunII_13TeV_MC/JetNtuple_RunIISummer16_13TeV_MC_110.root\n",
      "http://opendata.cern.ch/eos/opendata/cms/datascience/JetNtupleProducerTool/JetNTuple_QCD_RunII_13TeV_MC/JetNtuple_RunIISummer16_13TeV_MC_111.root\n",
      "http://opendata.cern.ch/eos/opendata/cms/datascience/JetNtupleProducerTool/JetNTuple_QCD_RunII_13TeV_MC/JetNtuple_RunIISummer16_13TeV_MC_112.root\n",
      "http://opendata.cern.ch/eos/opendata/cms/datascience/JetNtupleProducerTool/JetNTuple_QCD_RunII_13TeV_MC/JetNtuple_RunIISummer16_13TeV_MC_113.root\n",
      "http://opendata.cern.ch/eos/opendata/cms/datascience/JetNtupleProducerTool/JetNTuple_QCD_RunII_13TeV_MC/JetNtuple_RunIISummer16_13TeV_MC_114.root\n",
      "http://opendata.cern.ch/eos/opendata/cms/datascience/JetNtupleProducerTool/JetNTuple_QCD_RunII_13TeV_MC/JetNtuple_RunIISummer16_13TeV_MC_115.root\n",
      "http://opendata.cern.ch/eos/opendata/cms/datascience/JetNtupleProducerTool/JetNTuple_QCD_RunII_13TeV_MC/JetNtuple_RunIISummer16_13TeV_MC_116.root\n",
      "http://opendata.cern.ch/eos/opendata/cms/datascience/JetNtupleProducerTool/JetNTuple_QCD_RunII_13TeV_MC/JetNtuple_RunIISummer16_13TeV_MC_117.root\n",
      "http://opendata.cern.ch/eos/opendata/cms/datascience/JetNtupleProducerTool/JetNTuple_QCD_RunII_13TeV_MC/JetNtuple_RunIISummer16_13TeV_MC_118.root\n",
      "http://opendata.cern.ch/eos/opendata/cms/datascience/JetNtupleProducerTool/JetNTuple_QCD_RunII_13TeV_MC/JetNtuple_RunIISummer16_13TeV_MC_119.root\n",
      "http://opendata.cern.ch/eos/opendata/cms/datascience/JetNtupleProducerTool/JetNTuple_QCD_RunII_13TeV_MC/JetNtuple_RunIISummer16_13TeV_MC_12.root\n",
      "http://opendata.cern.ch/eos/opendata/cms/datascience/JetNtupleProducerTool/JetNTuple_QCD_RunII_13TeV_MC/JetNtuple_RunIISummer16_13TeV_MC_120.root\n",
      "http://opendata.cern.ch/eos/opendata/cms/datascience/JetNtupleProducerTool/JetNTuple_QCD_RunII_13TeV_MC/JetNtuple_RunIISummer16_13TeV_MC_121.root\n",
      "http://opendata.cern.ch/eos/opendata/cms/datascience/JetNtupleProducerTool/JetNTuple_QCD_RunII_13TeV_MC/JetNtuple_RunIISummer16_13TeV_MC_122.root\n",
      "http://opendata.cern.ch/eos/opendata/cms/datascience/JetNtupleProducerTool/JetNTuple_QCD_RunII_13TeV_MC/JetNtuple_RunIISummer16_13TeV_MC_13.root\n",
      "http://opendata.cern.ch/eos/opendata/cms/datascience/JetNtupleProducerTool/JetNTuple_QCD_RunII_13TeV_MC/JetNtuple_RunIISummer16_13TeV_MC_14.root\n",
      "http://opendata.cern.ch/eos/opendata/cms/datascience/JetNtupleProducerTool/JetNTuple_QCD_RunII_13TeV_MC/JetNtuple_RunIISummer16_13TeV_MC_15.root\n",
      "http://opendata.cern.ch/eos/opendata/cms/datascience/JetNtupleProducerTool/JetNTuple_QCD_RunII_13TeV_MC/JetNtuple_RunIISummer16_13TeV_MC_16.root\n",
      "http://opendata.cern.ch/eos/opendata/cms/datascience/JetNtupleProducerTool/JetNTuple_QCD_RunII_13TeV_MC/JetNtuple_RunIISummer16_13TeV_MC_17.root\n",
      "http://opendata.cern.ch/eos/opendata/cms/datascience/JetNtupleProducerTool/JetNTuple_QCD_RunII_13TeV_MC/JetNtuple_RunIISummer16_13TeV_MC_18.root\n",
      "http://opendata.cern.ch/eos/opendata/cms/datascience/JetNtupleProducerTool/JetNTuple_QCD_RunII_13TeV_MC/JetNtuple_RunIISummer16_13TeV_MC_19.root\n",
      "http://opendata.cern.ch/eos/opendata/cms/datascience/JetNtupleProducerTool/JetNTuple_QCD_RunII_13TeV_MC/JetNtuple_RunIISummer16_13TeV_MC_2.root\n",
      "http://opendata.cern.ch/eos/opendata/cms/datascience/JetNtupleProducerTool/JetNTuple_QCD_RunII_13TeV_MC/JetNtuple_RunIISummer16_13TeV_MC_20.root\n",
      "http://opendata.cern.ch/eos/opendata/cms/datascience/JetNtupleProducerTool/JetNTuple_QCD_RunII_13TeV_MC/JetNtuple_RunIISummer16_13TeV_MC_21.root\n",
      "http://opendata.cern.ch/eos/opendata/cms/datascience/JetNtupleProducerTool/JetNTuple_QCD_RunII_13TeV_MC/JetNtuple_RunIISummer16_13TeV_MC_22.root\n",
      "http://opendata.cern.ch/eos/opendata/cms/datascience/JetNtupleProducerTool/JetNTuple_QCD_RunII_13TeV_MC/JetNtuple_RunIISummer16_13TeV_MC_23.root\n",
      "http://opendata.cern.ch/eos/opendata/cms/datascience/JetNtupleProducerTool/JetNTuple_QCD_RunII_13TeV_MC/JetNtuple_RunIISummer16_13TeV_MC_24.root\n",
      "http://opendata.cern.ch/eos/opendata/cms/datascience/JetNtupleProducerTool/JetNTuple_QCD_RunII_13TeV_MC/JetNtuple_RunIISummer16_13TeV_MC_25.root\n",
      "http://opendata.cern.ch/eos/opendata/cms/datascience/JetNtupleProducerTool/JetNTuple_QCD_RunII_13TeV_MC/JetNtuple_RunIISummer16_13TeV_MC_26.root\n",
      "http://opendata.cern.ch/eos/opendata/cms/datascience/JetNtupleProducerTool/JetNTuple_QCD_RunII_13TeV_MC/JetNtuple_RunIISummer16_13TeV_MC_27.root\n",
      "http://opendata.cern.ch/eos/opendata/cms/datascience/JetNtupleProducerTool/JetNTuple_QCD_RunII_13TeV_MC/JetNtuple_RunIISummer16_13TeV_MC_28.root\n",
      "http://opendata.cern.ch/eos/opendata/cms/datascience/JetNtupleProducerTool/JetNTuple_QCD_RunII_13TeV_MC/JetNtuple_RunIISummer16_13TeV_MC_29.root\n",
      "http://opendata.cern.ch/eos/opendata/cms/datascience/JetNtupleProducerTool/JetNTuple_QCD_RunII_13TeV_MC/JetNtuple_RunIISummer16_13TeV_MC_3.root\n",
      "http://opendata.cern.ch/eos/opendata/cms/datascience/JetNtupleProducerTool/JetNTuple_QCD_RunII_13TeV_MC/JetNtuple_RunIISummer16_13TeV_MC_30.root\n",
      "http://opendata.cern.ch/eos/opendata/cms/datascience/JetNtupleProducerTool/JetNTuple_QCD_RunII_13TeV_MC/JetNtuple_RunIISummer16_13TeV_MC_31.root\n",
      "http://opendata.cern.ch/eos/opendata/cms/datascience/JetNtupleProducerTool/JetNTuple_QCD_RunII_13TeV_MC/JetNtuple_RunIISummer16_13TeV_MC_32.root\n",
      "http://opendata.cern.ch/eos/opendata/cms/datascience/JetNtupleProducerTool/JetNTuple_QCD_RunII_13TeV_MC/JetNtuple_RunIISummer16_13TeV_MC_33.root\n",
      "http://opendata.cern.ch/eos/opendata/cms/datascience/JetNtupleProducerTool/JetNTuple_QCD_RunII_13TeV_MC/JetNtuple_RunIISummer16_13TeV_MC_34.root\n",
      "http://opendata.cern.ch/eos/opendata/cms/datascience/JetNtupleProducerTool/JetNTuple_QCD_RunII_13TeV_MC/JetNtuple_RunIISummer16_13TeV_MC_35.root\n",
      "http://opendata.cern.ch/eos/opendata/cms/datascience/JetNtupleProducerTool/JetNTuple_QCD_RunII_13TeV_MC/JetNtuple_RunIISummer16_13TeV_MC_36.root\n",
      "http://opendata.cern.ch/eos/opendata/cms/datascience/JetNtupleProducerTool/JetNTuple_QCD_RunII_13TeV_MC/JetNtuple_RunIISummer16_13TeV_MC_37.root\n",
      "http://opendata.cern.ch/eos/opendata/cms/datascience/JetNtupleProducerTool/JetNTuple_QCD_RunII_13TeV_MC/JetNtuple_RunIISummer16_13TeV_MC_38.root\n",
      "http://opendata.cern.ch/eos/opendata/cms/datascience/JetNtupleProducerTool/JetNTuple_QCD_RunII_13TeV_MC/JetNtuple_RunIISummer16_13TeV_MC_39.root\n",
      "http://opendata.cern.ch/eos/opendata/cms/datascience/JetNtupleProducerTool/JetNTuple_QCD_RunII_13TeV_MC/JetNtuple_RunIISummer16_13TeV_MC_4.root\n",
      "http://opendata.cern.ch/eos/opendata/cms/datascience/JetNtupleProducerTool/JetNTuple_QCD_RunII_13TeV_MC/JetNtuple_RunIISummer16_13TeV_MC_40.root\n",
      "http://opendata.cern.ch/eos/opendata/cms/datascience/JetNtupleProducerTool/JetNTuple_QCD_RunII_13TeV_MC/JetNtuple_RunIISummer16_13TeV_MC_41.root\n",
      "http://opendata.cern.ch/eos/opendata/cms/datascience/JetNtupleProducerTool/JetNTuple_QCD_RunII_13TeV_MC/JetNtuple_RunIISummer16_13TeV_MC_42.root\n",
      "http://opendata.cern.ch/eos/opendata/cms/datascience/JetNtupleProducerTool/JetNTuple_QCD_RunII_13TeV_MC/JetNtuple_RunIISummer16_13TeV_MC_43.root\n",
      "http://opendata.cern.ch/eos/opendata/cms/datascience/JetNtupleProducerTool/JetNTuple_QCD_RunII_13TeV_MC/JetNtuple_RunIISummer16_13TeV_MC_44.root\n",
      "http://opendata.cern.ch/eos/opendata/cms/datascience/JetNtupleProducerTool/JetNTuple_QCD_RunII_13TeV_MC/JetNtuple_RunIISummer16_13TeV_MC_45.root\n",
      "http://opendata.cern.ch/eos/opendata/cms/datascience/JetNtupleProducerTool/JetNTuple_QCD_RunII_13TeV_MC/JetNtuple_RunIISummer16_13TeV_MC_46.root\n",
      "http://opendata.cern.ch/eos/opendata/cms/datascience/JetNtupleProducerTool/JetNTuple_QCD_RunII_13TeV_MC/JetNtuple_RunIISummer16_13TeV_MC_47.root\n",
      "http://opendata.cern.ch/eos/opendata/cms/datascience/JetNtupleProducerTool/JetNTuple_QCD_RunII_13TeV_MC/JetNtuple_RunIISummer16_13TeV_MC_48.root\n",
      "http://opendata.cern.ch/eos/opendata/cms/datascience/JetNtupleProducerTool/JetNTuple_QCD_RunII_13TeV_MC/JetNtuple_RunIISummer16_13TeV_MC_49.root\n",
      "http://opendata.cern.ch/eos/opendata/cms/datascience/JetNtupleProducerTool/JetNTuple_QCD_RunII_13TeV_MC/JetNtuple_RunIISummer16_13TeV_MC_5.root\n",
      "http://opendata.cern.ch/eos/opendata/cms/datascience/JetNtupleProducerTool/JetNTuple_QCD_RunII_13TeV_MC/JetNtuple_RunIISummer16_13TeV_MC_50.root\n",
      "http://opendata.cern.ch/eos/opendata/cms/datascience/JetNtupleProducerTool/JetNTuple_QCD_RunII_13TeV_MC/JetNtuple_RunIISummer16_13TeV_MC_51.root\n",
      "http://opendata.cern.ch/eos/opendata/cms/datascience/JetNtupleProducerTool/JetNTuple_QCD_RunII_13TeV_MC/JetNtuple_RunIISummer16_13TeV_MC_52.root\n",
      "http://opendata.cern.ch/eos/opendata/cms/datascience/JetNtupleProducerTool/JetNTuple_QCD_RunII_13TeV_MC/JetNtuple_RunIISummer16_13TeV_MC_53.root\n",
      "http://opendata.cern.ch/eos/opendata/cms/datascience/JetNtupleProducerTool/JetNTuple_QCD_RunII_13TeV_MC/JetNtuple_RunIISummer16_13TeV_MC_54.root\n",
      "http://opendata.cern.ch/eos/opendata/cms/datascience/JetNtupleProducerTool/JetNTuple_QCD_RunII_13TeV_MC/JetNtuple_RunIISummer16_13TeV_MC_55.root\n",
      "http://opendata.cern.ch/eos/opendata/cms/datascience/JetNtupleProducerTool/JetNTuple_QCD_RunII_13TeV_MC/JetNtuple_RunIISummer16_13TeV_MC_56.root\n",
      "http://opendata.cern.ch/eos/opendata/cms/datascience/JetNtupleProducerTool/JetNTuple_QCD_RunII_13TeV_MC/JetNtuple_RunIISummer16_13TeV_MC_57.root\n",
      "http://opendata.cern.ch/eos/opendata/cms/datascience/JetNtupleProducerTool/JetNTuple_QCD_RunII_13TeV_MC/JetNtuple_RunIISummer16_13TeV_MC_58.root\n",
      "http://opendata.cern.ch/eos/opendata/cms/datascience/JetNtupleProducerTool/JetNTuple_QCD_RunII_13TeV_MC/JetNtuple_RunIISummer16_13TeV_MC_59.root\n",
      "http://opendata.cern.ch/eos/opendata/cms/datascience/JetNtupleProducerTool/JetNTuple_QCD_RunII_13TeV_MC/JetNtuple_RunIISummer16_13TeV_MC_6.root\n",
      "http://opendata.cern.ch/eos/opendata/cms/datascience/JetNtupleProducerTool/JetNTuple_QCD_RunII_13TeV_MC/JetNtuple_RunIISummer16_13TeV_MC_60.root\n",
      "http://opendata.cern.ch/eos/opendata/cms/datascience/JetNtupleProducerTool/JetNTuple_QCD_RunII_13TeV_MC/JetNtuple_RunIISummer16_13TeV_MC_61.root\n",
      "http://opendata.cern.ch/eos/opendata/cms/datascience/JetNtupleProducerTool/JetNTuple_QCD_RunII_13TeV_MC/JetNtuple_RunIISummer16_13TeV_MC_62.root\n",
      "http://opendata.cern.ch/eos/opendata/cms/datascience/JetNtupleProducerTool/JetNTuple_QCD_RunII_13TeV_MC/JetNtuple_RunIISummer16_13TeV_MC_63.root\n",
      "http://opendata.cern.ch/eos/opendata/cms/datascience/JetNtupleProducerTool/JetNTuple_QCD_RunII_13TeV_MC/JetNtuple_RunIISummer16_13TeV_MC_64.root\n",
      "http://opendata.cern.ch/eos/opendata/cms/datascience/JetNtupleProducerTool/JetNTuple_QCD_RunII_13TeV_MC/JetNtuple_RunIISummer16_13TeV_MC_65.root\n",
      "http://opendata.cern.ch/eos/opendata/cms/datascience/JetNtupleProducerTool/JetNTuple_QCD_RunII_13TeV_MC/JetNtuple_RunIISummer16_13TeV_MC_66.root\n",
      "http://opendata.cern.ch/eos/opendata/cms/datascience/JetNtupleProducerTool/JetNTuple_QCD_RunII_13TeV_MC/JetNtuple_RunIISummer16_13TeV_MC_67.root\n",
      "http://opendata.cern.ch/eos/opendata/cms/datascience/JetNtupleProducerTool/JetNTuple_QCD_RunII_13TeV_MC/JetNtuple_RunIISummer16_13TeV_MC_68.root\n",
      "http://opendata.cern.ch/eos/opendata/cms/datascience/JetNtupleProducerTool/JetNTuple_QCD_RunII_13TeV_MC/JetNtuple_RunIISummer16_13TeV_MC_69.root\n",
      "http://opendata.cern.ch/eos/opendata/cms/datascience/JetNtupleProducerTool/JetNTuple_QCD_RunII_13TeV_MC/JetNtuple_RunIISummer16_13TeV_MC_7.root\n",
      "http://opendata.cern.ch/eos/opendata/cms/datascience/JetNtupleProducerTool/JetNTuple_QCD_RunII_13TeV_MC/JetNtuple_RunIISummer16_13TeV_MC_70.root\n",
      "http://opendata.cern.ch/eos/opendata/cms/datascience/JetNtupleProducerTool/JetNTuple_QCD_RunII_13TeV_MC/JetNtuple_RunIISummer16_13TeV_MC_71.root\n",
      "http://opendata.cern.ch/eos/opendata/cms/datascience/JetNtupleProducerTool/JetNTuple_QCD_RunII_13TeV_MC/JetNtuple_RunIISummer16_13TeV_MC_72.root\n",
      "http://opendata.cern.ch/eos/opendata/cms/datascience/JetNtupleProducerTool/JetNTuple_QCD_RunII_13TeV_MC/JetNtuple_RunIISummer16_13TeV_MC_73.root\n",
      "http://opendata.cern.ch/eos/opendata/cms/datascience/JetNtupleProducerTool/JetNTuple_QCD_RunII_13TeV_MC/JetNtuple_RunIISummer16_13TeV_MC_74.root\n",
      "http://opendata.cern.ch/eos/opendata/cms/datascience/JetNtupleProducerTool/JetNTuple_QCD_RunII_13TeV_MC/JetNtuple_RunIISummer16_13TeV_MC_75.root\n",
      "http://opendata.cern.ch/eos/opendata/cms/datascience/JetNtupleProducerTool/JetNTuple_QCD_RunII_13TeV_MC/JetNtuple_RunIISummer16_13TeV_MC_76.root\n",
      "http://opendata.cern.ch/eos/opendata/cms/datascience/JetNtupleProducerTool/JetNTuple_QCD_RunII_13TeV_MC/JetNtuple_RunIISummer16_13TeV_MC_77.root\n",
      "http://opendata.cern.ch/eos/opendata/cms/datascience/JetNtupleProducerTool/JetNTuple_QCD_RunII_13TeV_MC/JetNtuple_RunIISummer16_13TeV_MC_78.root\n",
      "http://opendata.cern.ch/eos/opendata/cms/datascience/JetNtupleProducerTool/JetNTuple_QCD_RunII_13TeV_MC/JetNtuple_RunIISummer16_13TeV_MC_79.root\n",
      "http://opendata.cern.ch/eos/opendata/cms/datascience/JetNtupleProducerTool/JetNTuple_QCD_RunII_13TeV_MC/JetNtuple_RunIISummer16_13TeV_MC_8.root\n",
      "http://opendata.cern.ch/eos/opendata/cms/datascience/JetNtupleProducerTool/JetNTuple_QCD_RunII_13TeV_MC/JetNtuple_RunIISummer16_13TeV_MC_80.root\n",
      "http://opendata.cern.ch/eos/opendata/cms/datascience/JetNtupleProducerTool/JetNTuple_QCD_RunII_13TeV_MC/JetNtuple_RunIISummer16_13TeV_MC_81.root\n",
      "http://opendata.cern.ch/eos/opendata/cms/datascience/JetNtupleProducerTool/JetNTuple_QCD_RunII_13TeV_MC/JetNtuple_RunIISummer16_13TeV_MC_82.root\n",
      "http://opendata.cern.ch/eos/opendata/cms/datascience/JetNtupleProducerTool/JetNTuple_QCD_RunII_13TeV_MC/JetNtuple_RunIISummer16_13TeV_MC_83.root\n",
      "http://opendata.cern.ch/eos/opendata/cms/datascience/JetNtupleProducerTool/JetNTuple_QCD_RunII_13TeV_MC/JetNtuple_RunIISummer16_13TeV_MC_84.root\n",
      "http://opendata.cern.ch/eos/opendata/cms/datascience/JetNtupleProducerTool/JetNTuple_QCD_RunII_13TeV_MC/JetNtuple_RunIISummer16_13TeV_MC_85.root\n",
      "http://opendata.cern.ch/eos/opendata/cms/datascience/JetNtupleProducerTool/JetNTuple_QCD_RunII_13TeV_MC/JetNtuple_RunIISummer16_13TeV_MC_86.root\n",
      "http://opendata.cern.ch/eos/opendata/cms/datascience/JetNtupleProducerTool/JetNTuple_QCD_RunII_13TeV_MC/JetNtuple_RunIISummer16_13TeV_MC_87.root\n",
      "http://opendata.cern.ch/eos/opendata/cms/datascience/JetNtupleProducerTool/JetNTuple_QCD_RunII_13TeV_MC/JetNtuple_RunIISummer16_13TeV_MC_88.root\n",
      "http://opendata.cern.ch/eos/opendata/cms/datascience/JetNtupleProducerTool/JetNTuple_QCD_RunII_13TeV_MC/JetNtuple_RunIISummer16_13TeV_MC_89.root\n",
      "http://opendata.cern.ch/eos/opendata/cms/datascience/JetNtupleProducerTool/JetNTuple_QCD_RunII_13TeV_MC/JetNtuple_RunIISummer16_13TeV_MC_9.root\n",
      "http://opendata.cern.ch/eos/opendata/cms/datascience/JetNtupleProducerTool/JetNTuple_QCD_RunII_13TeV_MC/JetNtuple_RunIISummer16_13TeV_MC_90.root\n",
      "http://opendata.cern.ch/eos/opendata/cms/datascience/JetNtupleProducerTool/JetNTuple_QCD_RunII_13TeV_MC/JetNtuple_RunIISummer16_13TeV_MC_91.root\n",
      "http://opendata.cern.ch/eos/opendata/cms/datascience/JetNtupleProducerTool/JetNTuple_QCD_RunII_13TeV_MC/JetNtuple_RunIISummer16_13TeV_MC_92.root\n",
      "http://opendata.cern.ch/eos/opendata/cms/datascience/JetNtupleProducerTool/JetNTuple_QCD_RunII_13TeV_MC/JetNtuple_RunIISummer16_13TeV_MC_93.root\n",
      "http://opendata.cern.ch/eos/opendata/cms/datascience/JetNtupleProducerTool/JetNTuple_QCD_RunII_13TeV_MC/JetNtuple_RunIISummer16_13TeV_MC_94.root\n",
      "http://opendata.cern.ch/eos/opendata/cms/datascience/JetNtupleProducerTool/JetNTuple_QCD_RunII_13TeV_MC/JetNtuple_RunIISummer16_13TeV_MC_95.root\n",
      "http://opendata.cern.ch/eos/opendata/cms/datascience/JetNtupleProducerTool/JetNTuple_QCD_RunII_13TeV_MC/JetNtuple_RunIISummer16_13TeV_MC_96.root\n",
      "http://opendata.cern.ch/eos/opendata/cms/datascience/JetNtupleProducerTool/JetNTuple_QCD_RunII_13TeV_MC/JetNtuple_RunIISummer16_13TeV_MC_97.root\n",
      "http://opendata.cern.ch/eos/opendata/cms/datascience/JetNtupleProducerTool/JetNTuple_QCD_RunII_13TeV_MC/JetNtuple_RunIISummer16_13TeV_MC_98.root\n",
      "http://opendata.cern.ch/eos/opendata/cms/datascience/JetNtupleProducerTool/JetNTuple_QCD_RunII_13TeV_MC/JetNtuple_RunIISummer16_13TeV_MC_99.root\n"
     ]
    }
   ],
   "source": [
    "!cernopendata-client get-file-locations --recid 12100 | grep .root"
   ]
  },
  {
   "cell_type": "code",
   "execution_count": 3,
   "metadata": {},
   "outputs": [
    {
     "name": "stdout",
     "output_type": "stream",
     "text": [
      "http://opendata.cern.ch/eos/opendata/cms/datascience/JetNtupleProducerTool/JetNTuple_QCD_RunII_13TeV_MC/JetNtuple_RunIISummer16_13TeV_MC_1.h5\n",
      "http://opendata.cern.ch/eos/opendata/cms/datascience/JetNtupleProducerTool/JetNTuple_QCD_RunII_13TeV_MC/JetNtuple_RunIISummer16_13TeV_MC_10.h5\n",
      "http://opendata.cern.ch/eos/opendata/cms/datascience/JetNtupleProducerTool/JetNTuple_QCD_RunII_13TeV_MC/JetNtuple_RunIISummer16_13TeV_MC_100.h5\n",
      "http://opendata.cern.ch/eos/opendata/cms/datascience/JetNtupleProducerTool/JetNTuple_QCD_RunII_13TeV_MC/JetNtuple_RunIISummer16_13TeV_MC_101.h5\n",
      "http://opendata.cern.ch/eos/opendata/cms/datascience/JetNtupleProducerTool/JetNTuple_QCD_RunII_13TeV_MC/JetNtuple_RunIISummer16_13TeV_MC_102.h5\n",
      "http://opendata.cern.ch/eos/opendata/cms/datascience/JetNtupleProducerTool/JetNTuple_QCD_RunII_13TeV_MC/JetNtuple_RunIISummer16_13TeV_MC_103.h5\n",
      "http://opendata.cern.ch/eos/opendata/cms/datascience/JetNtupleProducerTool/JetNTuple_QCD_RunII_13TeV_MC/JetNtuple_RunIISummer16_13TeV_MC_104.h5\n",
      "http://opendata.cern.ch/eos/opendata/cms/datascience/JetNtupleProducerTool/JetNTuple_QCD_RunII_13TeV_MC/JetNtuple_RunIISummer16_13TeV_MC_105.h5\n",
      "http://opendata.cern.ch/eos/opendata/cms/datascience/JetNtupleProducerTool/JetNTuple_QCD_RunII_13TeV_MC/JetNtuple_RunIISummer16_13TeV_MC_106.h5\n",
      "http://opendata.cern.ch/eos/opendata/cms/datascience/JetNtupleProducerTool/JetNTuple_QCD_RunII_13TeV_MC/JetNtuple_RunIISummer16_13TeV_MC_107.h5\n",
      "http://opendata.cern.ch/eos/opendata/cms/datascience/JetNtupleProducerTool/JetNTuple_QCD_RunII_13TeV_MC/JetNtuple_RunIISummer16_13TeV_MC_108.h5\n",
      "http://opendata.cern.ch/eos/opendata/cms/datascience/JetNtupleProducerTool/JetNTuple_QCD_RunII_13TeV_MC/JetNtuple_RunIISummer16_13TeV_MC_109.h5\n",
      "http://opendata.cern.ch/eos/opendata/cms/datascience/JetNtupleProducerTool/JetNTuple_QCD_RunII_13TeV_MC/JetNtuple_RunIISummer16_13TeV_MC_11.h5\n",
      "http://opendata.cern.ch/eos/opendata/cms/datascience/JetNtupleProducerTool/JetNTuple_QCD_RunII_13TeV_MC/JetNtuple_RunIISummer16_13TeV_MC_110.h5\n",
      "http://opendata.cern.ch/eos/opendata/cms/datascience/JetNtupleProducerTool/JetNTuple_QCD_RunII_13TeV_MC/JetNtuple_RunIISummer16_13TeV_MC_111.h5\n",
      "http://opendata.cern.ch/eos/opendata/cms/datascience/JetNtupleProducerTool/JetNTuple_QCD_RunII_13TeV_MC/JetNtuple_RunIISummer16_13TeV_MC_112.h5\n",
      "http://opendata.cern.ch/eos/opendata/cms/datascience/JetNtupleProducerTool/JetNTuple_QCD_RunII_13TeV_MC/JetNtuple_RunIISummer16_13TeV_MC_113.h5\n",
      "http://opendata.cern.ch/eos/opendata/cms/datascience/JetNtupleProducerTool/JetNTuple_QCD_RunII_13TeV_MC/JetNtuple_RunIISummer16_13TeV_MC_114.h5\n",
      "http://opendata.cern.ch/eos/opendata/cms/datascience/JetNtupleProducerTool/JetNTuple_QCD_RunII_13TeV_MC/JetNtuple_RunIISummer16_13TeV_MC_115.h5\n",
      "http://opendata.cern.ch/eos/opendata/cms/datascience/JetNtupleProducerTool/JetNTuple_QCD_RunII_13TeV_MC/JetNtuple_RunIISummer16_13TeV_MC_116.h5\n",
      "http://opendata.cern.ch/eos/opendata/cms/datascience/JetNtupleProducerTool/JetNTuple_QCD_RunII_13TeV_MC/JetNtuple_RunIISummer16_13TeV_MC_117.h5\n",
      "http://opendata.cern.ch/eos/opendata/cms/datascience/JetNtupleProducerTool/JetNTuple_QCD_RunII_13TeV_MC/JetNtuple_RunIISummer16_13TeV_MC_118.h5\n",
      "http://opendata.cern.ch/eos/opendata/cms/datascience/JetNtupleProducerTool/JetNTuple_QCD_RunII_13TeV_MC/JetNtuple_RunIISummer16_13TeV_MC_119.h5\n",
      "http://opendata.cern.ch/eos/opendata/cms/datascience/JetNtupleProducerTool/JetNTuple_QCD_RunII_13TeV_MC/JetNtuple_RunIISummer16_13TeV_MC_12.h5\n",
      "http://opendata.cern.ch/eos/opendata/cms/datascience/JetNtupleProducerTool/JetNTuple_QCD_RunII_13TeV_MC/JetNtuple_RunIISummer16_13TeV_MC_120.h5\n",
      "http://opendata.cern.ch/eos/opendata/cms/datascience/JetNtupleProducerTool/JetNTuple_QCD_RunII_13TeV_MC/JetNtuple_RunIISummer16_13TeV_MC_121.h5\n",
      "http://opendata.cern.ch/eos/opendata/cms/datascience/JetNtupleProducerTool/JetNTuple_QCD_RunII_13TeV_MC/JetNtuple_RunIISummer16_13TeV_MC_122.h5\n",
      "http://opendata.cern.ch/eos/opendata/cms/datascience/JetNtupleProducerTool/JetNTuple_QCD_RunII_13TeV_MC/JetNtuple_RunIISummer16_13TeV_MC_13.h5\n",
      "http://opendata.cern.ch/eos/opendata/cms/datascience/JetNtupleProducerTool/JetNTuple_QCD_RunII_13TeV_MC/JetNtuple_RunIISummer16_13TeV_MC_14.h5\n",
      "http://opendata.cern.ch/eos/opendata/cms/datascience/JetNtupleProducerTool/JetNTuple_QCD_RunII_13TeV_MC/JetNtuple_RunIISummer16_13TeV_MC_15.h5\n",
      "http://opendata.cern.ch/eos/opendata/cms/datascience/JetNtupleProducerTool/JetNTuple_QCD_RunII_13TeV_MC/JetNtuple_RunIISummer16_13TeV_MC_16.h5\n",
      "http://opendata.cern.ch/eos/opendata/cms/datascience/JetNtupleProducerTool/JetNTuple_QCD_RunII_13TeV_MC/JetNtuple_RunIISummer16_13TeV_MC_17.h5\n",
      "http://opendata.cern.ch/eos/opendata/cms/datascience/JetNtupleProducerTool/JetNTuple_QCD_RunII_13TeV_MC/JetNtuple_RunIISummer16_13TeV_MC_18.h5\n",
      "http://opendata.cern.ch/eos/opendata/cms/datascience/JetNtupleProducerTool/JetNTuple_QCD_RunII_13TeV_MC/JetNtuple_RunIISummer16_13TeV_MC_19.h5\n",
      "http://opendata.cern.ch/eos/opendata/cms/datascience/JetNtupleProducerTool/JetNTuple_QCD_RunII_13TeV_MC/JetNtuple_RunIISummer16_13TeV_MC_2.h5\n",
      "http://opendata.cern.ch/eos/opendata/cms/datascience/JetNtupleProducerTool/JetNTuple_QCD_RunII_13TeV_MC/JetNtuple_RunIISummer16_13TeV_MC_20.h5\n",
      "http://opendata.cern.ch/eos/opendata/cms/datascience/JetNtupleProducerTool/JetNTuple_QCD_RunII_13TeV_MC/JetNtuple_RunIISummer16_13TeV_MC_21.h5\n",
      "http://opendata.cern.ch/eos/opendata/cms/datascience/JetNtupleProducerTool/JetNTuple_QCD_RunII_13TeV_MC/JetNtuple_RunIISummer16_13TeV_MC_22.h5\n",
      "http://opendata.cern.ch/eos/opendata/cms/datascience/JetNtupleProducerTool/JetNTuple_QCD_RunII_13TeV_MC/JetNtuple_RunIISummer16_13TeV_MC_23.h5\n",
      "http://opendata.cern.ch/eos/opendata/cms/datascience/JetNtupleProducerTool/JetNTuple_QCD_RunII_13TeV_MC/JetNtuple_RunIISummer16_13TeV_MC_24.h5\n",
      "http://opendata.cern.ch/eos/opendata/cms/datascience/JetNtupleProducerTool/JetNTuple_QCD_RunII_13TeV_MC/JetNtuple_RunIISummer16_13TeV_MC_25.h5\n",
      "http://opendata.cern.ch/eos/opendata/cms/datascience/JetNtupleProducerTool/JetNTuple_QCD_RunII_13TeV_MC/JetNtuple_RunIISummer16_13TeV_MC_26.h5\n",
      "http://opendata.cern.ch/eos/opendata/cms/datascience/JetNtupleProducerTool/JetNTuple_QCD_RunII_13TeV_MC/JetNtuple_RunIISummer16_13TeV_MC_27.h5\n",
      "http://opendata.cern.ch/eos/opendata/cms/datascience/JetNtupleProducerTool/JetNTuple_QCD_RunII_13TeV_MC/JetNtuple_RunIISummer16_13TeV_MC_28.h5\n",
      "http://opendata.cern.ch/eos/opendata/cms/datascience/JetNtupleProducerTool/JetNTuple_QCD_RunII_13TeV_MC/JetNtuple_RunIISummer16_13TeV_MC_29.h5\n",
      "http://opendata.cern.ch/eos/opendata/cms/datascience/JetNtupleProducerTool/JetNTuple_QCD_RunII_13TeV_MC/JetNtuple_RunIISummer16_13TeV_MC_3.h5\n",
      "http://opendata.cern.ch/eos/opendata/cms/datascience/JetNtupleProducerTool/JetNTuple_QCD_RunII_13TeV_MC/JetNtuple_RunIISummer16_13TeV_MC_30.h5\n",
      "http://opendata.cern.ch/eos/opendata/cms/datascience/JetNtupleProducerTool/JetNTuple_QCD_RunII_13TeV_MC/JetNtuple_RunIISummer16_13TeV_MC_31.h5\n",
      "http://opendata.cern.ch/eos/opendata/cms/datascience/JetNtupleProducerTool/JetNTuple_QCD_RunII_13TeV_MC/JetNtuple_RunIISummer16_13TeV_MC_32.h5\n",
      "http://opendata.cern.ch/eos/opendata/cms/datascience/JetNtupleProducerTool/JetNTuple_QCD_RunII_13TeV_MC/JetNtuple_RunIISummer16_13TeV_MC_33.h5\n",
      "http://opendata.cern.ch/eos/opendata/cms/datascience/JetNtupleProducerTool/JetNTuple_QCD_RunII_13TeV_MC/JetNtuple_RunIISummer16_13TeV_MC_34.h5\n",
      "http://opendata.cern.ch/eos/opendata/cms/datascience/JetNtupleProducerTool/JetNTuple_QCD_RunII_13TeV_MC/JetNtuple_RunIISummer16_13TeV_MC_35.h5\n",
      "http://opendata.cern.ch/eos/opendata/cms/datascience/JetNtupleProducerTool/JetNTuple_QCD_RunII_13TeV_MC/JetNtuple_RunIISummer16_13TeV_MC_36.h5\n",
      "http://opendata.cern.ch/eos/opendata/cms/datascience/JetNtupleProducerTool/JetNTuple_QCD_RunII_13TeV_MC/JetNtuple_RunIISummer16_13TeV_MC_37.h5\n",
      "http://opendata.cern.ch/eos/opendata/cms/datascience/JetNtupleProducerTool/JetNTuple_QCD_RunII_13TeV_MC/JetNtuple_RunIISummer16_13TeV_MC_38.h5\n",
      "http://opendata.cern.ch/eos/opendata/cms/datascience/JetNtupleProducerTool/JetNTuple_QCD_RunII_13TeV_MC/JetNtuple_RunIISummer16_13TeV_MC_39.h5\n",
      "http://opendata.cern.ch/eos/opendata/cms/datascience/JetNtupleProducerTool/JetNTuple_QCD_RunII_13TeV_MC/JetNtuple_RunIISummer16_13TeV_MC_4.h5\n",
      "http://opendata.cern.ch/eos/opendata/cms/datascience/JetNtupleProducerTool/JetNTuple_QCD_RunII_13TeV_MC/JetNtuple_RunIISummer16_13TeV_MC_40.h5\n",
      "http://opendata.cern.ch/eos/opendata/cms/datascience/JetNtupleProducerTool/JetNTuple_QCD_RunII_13TeV_MC/JetNtuple_RunIISummer16_13TeV_MC_41.h5\n",
      "http://opendata.cern.ch/eos/opendata/cms/datascience/JetNtupleProducerTool/JetNTuple_QCD_RunII_13TeV_MC/JetNtuple_RunIISummer16_13TeV_MC_42.h5\n",
      "http://opendata.cern.ch/eos/opendata/cms/datascience/JetNtupleProducerTool/JetNTuple_QCD_RunII_13TeV_MC/JetNtuple_RunIISummer16_13TeV_MC_43.h5\n",
      "http://opendata.cern.ch/eos/opendata/cms/datascience/JetNtupleProducerTool/JetNTuple_QCD_RunII_13TeV_MC/JetNtuple_RunIISummer16_13TeV_MC_44.h5\n",
      "http://opendata.cern.ch/eos/opendata/cms/datascience/JetNtupleProducerTool/JetNTuple_QCD_RunII_13TeV_MC/JetNtuple_RunIISummer16_13TeV_MC_45.h5\n",
      "http://opendata.cern.ch/eos/opendata/cms/datascience/JetNtupleProducerTool/JetNTuple_QCD_RunII_13TeV_MC/JetNtuple_RunIISummer16_13TeV_MC_46.h5\n",
      "http://opendata.cern.ch/eos/opendata/cms/datascience/JetNtupleProducerTool/JetNTuple_QCD_RunII_13TeV_MC/JetNtuple_RunIISummer16_13TeV_MC_47.h5\n",
      "http://opendata.cern.ch/eos/opendata/cms/datascience/JetNtupleProducerTool/JetNTuple_QCD_RunII_13TeV_MC/JetNtuple_RunIISummer16_13TeV_MC_48.h5\n",
      "http://opendata.cern.ch/eos/opendata/cms/datascience/JetNtupleProducerTool/JetNTuple_QCD_RunII_13TeV_MC/JetNtuple_RunIISummer16_13TeV_MC_49.h5\n",
      "http://opendata.cern.ch/eos/opendata/cms/datascience/JetNtupleProducerTool/JetNTuple_QCD_RunII_13TeV_MC/JetNtuple_RunIISummer16_13TeV_MC_5.h5\n",
      "http://opendata.cern.ch/eos/opendata/cms/datascience/JetNtupleProducerTool/JetNTuple_QCD_RunII_13TeV_MC/JetNtuple_RunIISummer16_13TeV_MC_50.h5\n",
      "http://opendata.cern.ch/eos/opendata/cms/datascience/JetNtupleProducerTool/JetNTuple_QCD_RunII_13TeV_MC/JetNtuple_RunIISummer16_13TeV_MC_51.h5\n",
      "http://opendata.cern.ch/eos/opendata/cms/datascience/JetNtupleProducerTool/JetNTuple_QCD_RunII_13TeV_MC/JetNtuple_RunIISummer16_13TeV_MC_52.h5\n",
      "http://opendata.cern.ch/eos/opendata/cms/datascience/JetNtupleProducerTool/JetNTuple_QCD_RunII_13TeV_MC/JetNtuple_RunIISummer16_13TeV_MC_53.h5\n",
      "http://opendata.cern.ch/eos/opendata/cms/datascience/JetNtupleProducerTool/JetNTuple_QCD_RunII_13TeV_MC/JetNtuple_RunIISummer16_13TeV_MC_54.h5\n",
      "http://opendata.cern.ch/eos/opendata/cms/datascience/JetNtupleProducerTool/JetNTuple_QCD_RunII_13TeV_MC/JetNtuple_RunIISummer16_13TeV_MC_55.h5\n",
      "http://opendata.cern.ch/eos/opendata/cms/datascience/JetNtupleProducerTool/JetNTuple_QCD_RunII_13TeV_MC/JetNtuple_RunIISummer16_13TeV_MC_56.h5\n",
      "http://opendata.cern.ch/eos/opendata/cms/datascience/JetNtupleProducerTool/JetNTuple_QCD_RunII_13TeV_MC/JetNtuple_RunIISummer16_13TeV_MC_57.h5\n",
      "http://opendata.cern.ch/eos/opendata/cms/datascience/JetNtupleProducerTool/JetNTuple_QCD_RunII_13TeV_MC/JetNtuple_RunIISummer16_13TeV_MC_58.h5\n",
      "http://opendata.cern.ch/eos/opendata/cms/datascience/JetNtupleProducerTool/JetNTuple_QCD_RunII_13TeV_MC/JetNtuple_RunIISummer16_13TeV_MC_59.h5\n",
      "http://opendata.cern.ch/eos/opendata/cms/datascience/JetNtupleProducerTool/JetNTuple_QCD_RunII_13TeV_MC/JetNtuple_RunIISummer16_13TeV_MC_6.h5\n",
      "http://opendata.cern.ch/eos/opendata/cms/datascience/JetNtupleProducerTool/JetNTuple_QCD_RunII_13TeV_MC/JetNtuple_RunIISummer16_13TeV_MC_60.h5\n",
      "http://opendata.cern.ch/eos/opendata/cms/datascience/JetNtupleProducerTool/JetNTuple_QCD_RunII_13TeV_MC/JetNtuple_RunIISummer16_13TeV_MC_61.h5\n",
      "http://opendata.cern.ch/eos/opendata/cms/datascience/JetNtupleProducerTool/JetNTuple_QCD_RunII_13TeV_MC/JetNtuple_RunIISummer16_13TeV_MC_62.h5\n",
      "http://opendata.cern.ch/eos/opendata/cms/datascience/JetNtupleProducerTool/JetNTuple_QCD_RunII_13TeV_MC/JetNtuple_RunIISummer16_13TeV_MC_63.h5\n",
      "http://opendata.cern.ch/eos/opendata/cms/datascience/JetNtupleProducerTool/JetNTuple_QCD_RunII_13TeV_MC/JetNtuple_RunIISummer16_13TeV_MC_64.h5\n",
      "http://opendata.cern.ch/eos/opendata/cms/datascience/JetNtupleProducerTool/JetNTuple_QCD_RunII_13TeV_MC/JetNtuple_RunIISummer16_13TeV_MC_65.h5\n",
      "http://opendata.cern.ch/eos/opendata/cms/datascience/JetNtupleProducerTool/JetNTuple_QCD_RunII_13TeV_MC/JetNtuple_RunIISummer16_13TeV_MC_66.h5\n",
      "http://opendata.cern.ch/eos/opendata/cms/datascience/JetNtupleProducerTool/JetNTuple_QCD_RunII_13TeV_MC/JetNtuple_RunIISummer16_13TeV_MC_67.h5\n",
      "http://opendata.cern.ch/eos/opendata/cms/datascience/JetNtupleProducerTool/JetNTuple_QCD_RunII_13TeV_MC/JetNtuple_RunIISummer16_13TeV_MC_68.h5\n",
      "http://opendata.cern.ch/eos/opendata/cms/datascience/JetNtupleProducerTool/JetNTuple_QCD_RunII_13TeV_MC/JetNtuple_RunIISummer16_13TeV_MC_69.h5\n",
      "http://opendata.cern.ch/eos/opendata/cms/datascience/JetNtupleProducerTool/JetNTuple_QCD_RunII_13TeV_MC/JetNtuple_RunIISummer16_13TeV_MC_7.h5\n",
      "http://opendata.cern.ch/eos/opendata/cms/datascience/JetNtupleProducerTool/JetNTuple_QCD_RunII_13TeV_MC/JetNtuple_RunIISummer16_13TeV_MC_70.h5\n",
      "http://opendata.cern.ch/eos/opendata/cms/datascience/JetNtupleProducerTool/JetNTuple_QCD_RunII_13TeV_MC/JetNtuple_RunIISummer16_13TeV_MC_71.h5\n",
      "http://opendata.cern.ch/eos/opendata/cms/datascience/JetNtupleProducerTool/JetNTuple_QCD_RunII_13TeV_MC/JetNtuple_RunIISummer16_13TeV_MC_72.h5\n",
      "http://opendata.cern.ch/eos/opendata/cms/datascience/JetNtupleProducerTool/JetNTuple_QCD_RunII_13TeV_MC/JetNtuple_RunIISummer16_13TeV_MC_73.h5\n",
      "http://opendata.cern.ch/eos/opendata/cms/datascience/JetNtupleProducerTool/JetNTuple_QCD_RunII_13TeV_MC/JetNtuple_RunIISummer16_13TeV_MC_74.h5\n",
      "http://opendata.cern.ch/eos/opendata/cms/datascience/JetNtupleProducerTool/JetNTuple_QCD_RunII_13TeV_MC/JetNtuple_RunIISummer16_13TeV_MC_75.h5\n",
      "http://opendata.cern.ch/eos/opendata/cms/datascience/JetNtupleProducerTool/JetNTuple_QCD_RunII_13TeV_MC/JetNtuple_RunIISummer16_13TeV_MC_76.h5\n",
      "http://opendata.cern.ch/eos/opendata/cms/datascience/JetNtupleProducerTool/JetNTuple_QCD_RunII_13TeV_MC/JetNtuple_RunIISummer16_13TeV_MC_77.h5\n",
      "http://opendata.cern.ch/eos/opendata/cms/datascience/JetNtupleProducerTool/JetNTuple_QCD_RunII_13TeV_MC/JetNtuple_RunIISummer16_13TeV_MC_78.h5\n",
      "http://opendata.cern.ch/eos/opendata/cms/datascience/JetNtupleProducerTool/JetNTuple_QCD_RunII_13TeV_MC/JetNtuple_RunIISummer16_13TeV_MC_79.h5\n",
      "http://opendata.cern.ch/eos/opendata/cms/datascience/JetNtupleProducerTool/JetNTuple_QCD_RunII_13TeV_MC/JetNtuple_RunIISummer16_13TeV_MC_8.h5\n",
      "http://opendata.cern.ch/eos/opendata/cms/datascience/JetNtupleProducerTool/JetNTuple_QCD_RunII_13TeV_MC/JetNtuple_RunIISummer16_13TeV_MC_80.h5\n",
      "http://opendata.cern.ch/eos/opendata/cms/datascience/JetNtupleProducerTool/JetNTuple_QCD_RunII_13TeV_MC/JetNtuple_RunIISummer16_13TeV_MC_81.h5\n",
      "http://opendata.cern.ch/eos/opendata/cms/datascience/JetNtupleProducerTool/JetNTuple_QCD_RunII_13TeV_MC/JetNtuple_RunIISummer16_13TeV_MC_82.h5\n",
      "http://opendata.cern.ch/eos/opendata/cms/datascience/JetNtupleProducerTool/JetNTuple_QCD_RunII_13TeV_MC/JetNtuple_RunIISummer16_13TeV_MC_83.h5\n",
      "http://opendata.cern.ch/eos/opendata/cms/datascience/JetNtupleProducerTool/JetNTuple_QCD_RunII_13TeV_MC/JetNtuple_RunIISummer16_13TeV_MC_84.h5\n",
      "http://opendata.cern.ch/eos/opendata/cms/datascience/JetNtupleProducerTool/JetNTuple_QCD_RunII_13TeV_MC/JetNtuple_RunIISummer16_13TeV_MC_85.h5\n",
      "http://opendata.cern.ch/eos/opendata/cms/datascience/JetNtupleProducerTool/JetNTuple_QCD_RunII_13TeV_MC/JetNtuple_RunIISummer16_13TeV_MC_86.h5\n",
      "http://opendata.cern.ch/eos/opendata/cms/datascience/JetNtupleProducerTool/JetNTuple_QCD_RunII_13TeV_MC/JetNtuple_RunIISummer16_13TeV_MC_87.h5\n",
      "http://opendata.cern.ch/eos/opendata/cms/datascience/JetNtupleProducerTool/JetNTuple_QCD_RunII_13TeV_MC/JetNtuple_RunIISummer16_13TeV_MC_88.h5\n",
      "http://opendata.cern.ch/eos/opendata/cms/datascience/JetNtupleProducerTool/JetNTuple_QCD_RunII_13TeV_MC/JetNtuple_RunIISummer16_13TeV_MC_89.h5\n",
      "http://opendata.cern.ch/eos/opendata/cms/datascience/JetNtupleProducerTool/JetNTuple_QCD_RunII_13TeV_MC/JetNtuple_RunIISummer16_13TeV_MC_9.h5\n",
      "http://opendata.cern.ch/eos/opendata/cms/datascience/JetNtupleProducerTool/JetNTuple_QCD_RunII_13TeV_MC/JetNtuple_RunIISummer16_13TeV_MC_90.h5\n",
      "http://opendata.cern.ch/eos/opendata/cms/datascience/JetNtupleProducerTool/JetNTuple_QCD_RunII_13TeV_MC/JetNtuple_RunIISummer16_13TeV_MC_91.h5\n",
      "http://opendata.cern.ch/eos/opendata/cms/datascience/JetNtupleProducerTool/JetNTuple_QCD_RunII_13TeV_MC/JetNtuple_RunIISummer16_13TeV_MC_92.h5\n",
      "http://opendata.cern.ch/eos/opendata/cms/datascience/JetNtupleProducerTool/JetNTuple_QCD_RunII_13TeV_MC/JetNtuple_RunIISummer16_13TeV_MC_93.h5\n",
      "http://opendata.cern.ch/eos/opendata/cms/datascience/JetNtupleProducerTool/JetNTuple_QCD_RunII_13TeV_MC/JetNtuple_RunIISummer16_13TeV_MC_94.h5\n",
      "http://opendata.cern.ch/eos/opendata/cms/datascience/JetNtupleProducerTool/JetNTuple_QCD_RunII_13TeV_MC/JetNtuple_RunIISummer16_13TeV_MC_95.h5\n",
      "http://opendata.cern.ch/eos/opendata/cms/datascience/JetNtupleProducerTool/JetNTuple_QCD_RunII_13TeV_MC/JetNtuple_RunIISummer16_13TeV_MC_96.h5\n",
      "http://opendata.cern.ch/eos/opendata/cms/datascience/JetNtupleProducerTool/JetNTuple_QCD_RunII_13TeV_MC/JetNtuple_RunIISummer16_13TeV_MC_97.h5\n",
      "http://opendata.cern.ch/eos/opendata/cms/datascience/JetNtupleProducerTool/JetNTuple_QCD_RunII_13TeV_MC/JetNtuple_RunIISummer16_13TeV_MC_98.h5\n",
      "http://opendata.cern.ch/eos/opendata/cms/datascience/JetNtupleProducerTool/JetNTuple_QCD_RunII_13TeV_MC/JetNtuple_RunIISummer16_13TeV_MC_99.h5\n"
     ]
    }
   ],
   "source": [
    "!cernopendata-client get-file-locations --recid 12100 | grep .h5"
   ]
  },
  {
   "cell_type": "code",
   "execution_count": 4,
   "metadata": {},
   "outputs": [
    {
     "name": "stdout",
     "output_type": "stream",
     "text": [
      "  % Total    % Received % Xferd  Average Speed   Time    Time     Time  Current\n",
      "                                 Dload  Upload   Total   Spent    Left  Speed\n",
      "100 80.1M  100 80.1M    0     0  7722k      0  0:00:10  0:00:10 --:--:-- 8299k\n"
     ]
    }
   ],
   "source": [
    "!curl -O http://opendata.cern.ch/eos/opendata/cms/datascience/JetNtupleProducerTool/JetNTuple_QCD_RunII_13TeV_MC/JetNtuple_RunIISummer16_13TeV_MC_1.root"
   ]
  },
  {
   "cell_type": "code",
   "execution_count": 5,
   "metadata": {},
   "outputs": [],
   "source": [
    "import uproot\n",
    "\n",
    "# Load a ROOT file\n",
    "filePath='JetNtuple_RunIISummer16_13TeV_MC_1.root'\n",
    "rootFile = uproot.open(filePath)['AK4jets']['jetTree']\n",
    "\n",
    "# Make a Pandas DataFrame\n",
    "df = rootFile.arrays(library=\"pd\")"
   ]
  },
  {
   "cell_type": "code",
   "execution_count": 6,
   "metadata": {},
   "outputs": [
    {
     "data": {
      "text/html": [
       "<div>\n",
       "<style scoped>\n",
       "    .dataframe tbody tr th:only-of-type {\n",
       "        vertical-align: middle;\n",
       "    }\n",
       "\n",
       "    .dataframe tbody tr th {\n",
       "        vertical-align: top;\n",
       "    }\n",
       "\n",
       "    .dataframe thead th {\n",
       "        text-align: right;\n",
       "    }\n",
       "</style>\n",
       "<table border=\"1\" class=\"dataframe\">\n",
       "  <thead>\n",
       "    <tr style=\"text-align: right;\">\n",
       "      <th></th>\n",
       "      <th>jetPt</th>\n",
       "      <th>jetEta</th>\n",
       "      <th>jetPhi</th>\n",
       "      <th>jetMass</th>\n",
       "      <th>jetGirth</th>\n",
       "      <th>jetArea</th>\n",
       "      <th>jetRawPt</th>\n",
       "      <th>jetRawMass</th>\n",
       "      <th>jetLooseID</th>\n",
       "      <th>jetTightID</th>\n",
       "      <th>...</th>\n",
       "      <th>lumi</th>\n",
       "      <th>pthat</th>\n",
       "      <th>eventWeight</th>\n",
       "      <th>rhoAll</th>\n",
       "      <th>rhoCentral</th>\n",
       "      <th>rhoCentralNeutral</th>\n",
       "      <th>rhoCentralChargedPileUp</th>\n",
       "      <th>PV_npvsGood</th>\n",
       "      <th>Pileup_nPU</th>\n",
       "      <th>Pileup_nTrueInt</th>\n",
       "    </tr>\n",
       "  </thead>\n",
       "  <tbody>\n",
       "    <tr>\n",
       "      <th>0</th>\n",
       "      <td>201.199554</td>\n",
       "      <td>-0.455842</td>\n",
       "      <td>-1.927541</td>\n",
       "      <td>20.587746</td>\n",
       "      <td>0.041613</td>\n",
       "      <td>0.488692</td>\n",
       "      <td>191.304138</td>\n",
       "      <td>19.575197</td>\n",
       "      <td>1</td>\n",
       "      <td>1</td>\n",
       "      <td>...</td>\n",
       "      <td>10749</td>\n",
       "      <td>333.959717</td>\n",
       "      <td>8.625542e-07</td>\n",
       "      <td>12.192383</td>\n",
       "      <td>12.626963</td>\n",
       "      <td>1.784393</td>\n",
       "      <td>8.661064</td>\n",
       "      <td>15</td>\n",
       "      <td>17</td>\n",
       "      <td>14.003437</td>\n",
       "    </tr>\n",
       "    <tr>\n",
       "      <th>1</th>\n",
       "      <td>154.892838</td>\n",
       "      <td>0.014880</td>\n",
       "      <td>1.769757</td>\n",
       "      <td>18.438292</td>\n",
       "      <td>0.065008</td>\n",
       "      <td>0.488692</td>\n",
       "      <td>148.450638</td>\n",
       "      <td>17.671417</td>\n",
       "      <td>1</td>\n",
       "      <td>1</td>\n",
       "      <td>...</td>\n",
       "      <td>10749</td>\n",
       "      <td>333.959717</td>\n",
       "      <td>8.625542e-07</td>\n",
       "      <td>12.192383</td>\n",
       "      <td>12.626963</td>\n",
       "      <td>1.784393</td>\n",
       "      <td>8.661064</td>\n",
       "      <td>15</td>\n",
       "      <td>17</td>\n",
       "      <td>14.003437</td>\n",
       "    </tr>\n",
       "    <tr>\n",
       "      <th>2</th>\n",
       "      <td>105.403564</td>\n",
       "      <td>-2.155736</td>\n",
       "      <td>0.339309</td>\n",
       "      <td>17.063622</td>\n",
       "      <td>0.079528</td>\n",
       "      <td>0.478719</td>\n",
       "      <td>91.705650</td>\n",
       "      <td>14.846087</td>\n",
       "      <td>1</td>\n",
       "      <td>1</td>\n",
       "      <td>...</td>\n",
       "      <td>10749</td>\n",
       "      <td>333.959717</td>\n",
       "      <td>8.625542e-07</td>\n",
       "      <td>12.192383</td>\n",
       "      <td>12.626963</td>\n",
       "      <td>1.784393</td>\n",
       "      <td>8.661064</td>\n",
       "      <td>15</td>\n",
       "      <td>17</td>\n",
       "      <td>14.003437</td>\n",
       "    </tr>\n",
       "    <tr>\n",
       "      <th>3</th>\n",
       "      <td>1263.015747</td>\n",
       "      <td>0.024581</td>\n",
       "      <td>-1.778938</td>\n",
       "      <td>65.909691</td>\n",
       "      <td>0.019175</td>\n",
       "      <td>0.498666</td>\n",
       "      <td>1196.449341</td>\n",
       "      <td>62.435963</td>\n",
       "      <td>1</td>\n",
       "      <td>1</td>\n",
       "      <td>...</td>\n",
       "      <td>10749</td>\n",
       "      <td>953.220703</td>\n",
       "      <td>7.692012e-09</td>\n",
       "      <td>3.713232</td>\n",
       "      <td>4.643364</td>\n",
       "      <td>0.000000</td>\n",
       "      <td>2.627680</td>\n",
       "      <td>9</td>\n",
       "      <td>11</td>\n",
       "      <td>10.769351</td>\n",
       "    </tr>\n",
       "    <tr>\n",
       "      <th>4</th>\n",
       "      <td>742.551147</td>\n",
       "      <td>-0.602228</td>\n",
       "      <td>1.542989</td>\n",
       "      <td>67.713173</td>\n",
       "      <td>0.044115</td>\n",
       "      <td>0.488692</td>\n",
       "      <td>695.258301</td>\n",
       "      <td>63.400539</td>\n",
       "      <td>1</td>\n",
       "      <td>1</td>\n",
       "      <td>...</td>\n",
       "      <td>10749</td>\n",
       "      <td>953.220703</td>\n",
       "      <td>7.692012e-09</td>\n",
       "      <td>3.713232</td>\n",
       "      <td>4.643364</td>\n",
       "      <td>0.000000</td>\n",
       "      <td>2.627680</td>\n",
       "      <td>9</td>\n",
       "      <td>11</td>\n",
       "      <td>10.769351</td>\n",
       "    </tr>\n",
       "  </tbody>\n",
       "</table>\n",
       "<p>5 rows × 66 columns</p>\n",
       "</div>"
      ],
      "text/plain": [
       "         jetPt    jetEta    jetPhi    jetMass  jetGirth   jetArea  \\\n",
       "0   201.199554 -0.455842 -1.927541  20.587746  0.041613  0.488692   \n",
       "1   154.892838  0.014880  1.769757  18.438292  0.065008  0.488692   \n",
       "2   105.403564 -2.155736  0.339309  17.063622  0.079528  0.478719   \n",
       "3  1263.015747  0.024581 -1.778938  65.909691  0.019175  0.498666   \n",
       "4   742.551147 -0.602228  1.542989  67.713173  0.044115  0.488692   \n",
       "\n",
       "      jetRawPt  jetRawMass  jetLooseID  jetTightID  ...   lumi       pthat  \\\n",
       "0   191.304138   19.575197           1           1  ...  10749  333.959717   \n",
       "1   148.450638   17.671417           1           1  ...  10749  333.959717   \n",
       "2    91.705650   14.846087           1           1  ...  10749  333.959717   \n",
       "3  1196.449341   62.435963           1           1  ...  10749  953.220703   \n",
       "4   695.258301   63.400539           1           1  ...  10749  953.220703   \n",
       "\n",
       "    eventWeight     rhoAll  rhoCentral  rhoCentralNeutral  \\\n",
       "0  8.625542e-07  12.192383   12.626963           1.784393   \n",
       "1  8.625542e-07  12.192383   12.626963           1.784393   \n",
       "2  8.625542e-07  12.192383   12.626963           1.784393   \n",
       "3  7.692012e-09   3.713232    4.643364           0.000000   \n",
       "4  7.692012e-09   3.713232    4.643364           0.000000   \n",
       "\n",
       "   rhoCentralChargedPileUp  PV_npvsGood  Pileup_nPU  Pileup_nTrueInt  \n",
       "0                 8.661064           15          17        14.003437  \n",
       "1                 8.661064           15          17        14.003437  \n",
       "2                 8.661064           15          17        14.003437  \n",
       "3                 2.627680            9          11        10.769351  \n",
       "4                 2.627680            9          11        10.769351  \n",
       "\n",
       "[5 rows x 66 columns]"
      ]
     },
     "execution_count": 6,
     "metadata": {},
     "output_type": "execute_result"
    }
   ],
   "source": [
    "df.head()"
   ]
  },
  {
   "cell_type": "markdown",
   "metadata": {},
   "source": [
    "The .h5 files can be read similarly using the _h5py_ package."
   ]
  },
  {
   "cell_type": "code",
   "execution_count": null,
   "metadata": {},
   "outputs": [],
   "source": [
    "!curl -O http://opendata.cern.ch/eos/opendata/cms/datascience/JetNtupleProducerTool/JetNTuple_QCD_RunII_13TeV_MC/JetNtuple_RunIISummer16_13TeV_MC_1.h5"
   ]
  },
  {
   "cell_type": "code",
   "execution_count": 22,
   "metadata": {},
   "outputs": [],
   "source": [
    "import h5py\n",
    "\n",
    "# Load an HDF5 file\n",
    "filePath = 'JetNtuple_RunIISummer16_13TeV_MC_1.h5'\n",
    "h5File = h5py.File(filePath, 'r')\n",
    "\n",
    "# Create and fill a dataframe\n",
    "df = pd.DataFrame()\n",
    "for key in h5File.keys():\n",
    "    df[key] = h5File[key]"
   ]
  },
  {
   "cell_type": "markdown",
   "metadata": {},
   "source": [
    "## Quark/gluon jet classification\n",
    "\n",
    "The machine learning example we present here is the classification of jets originating either from gluons or the three of the lightest quarks (_up_, _down_ and _strange_). This is an important task, since on the observable macroscopic level the two types of jets look very similar, but from a physical point of view the difference between them is significant.\n",
    "\n",
    "Jets are present in practically every interesting high energy proton-proton collision event. Protons themselves are composite particles made up of three quarks (two _up_ quarks and one _down_ quark), which are bound together by gluons. These color-charged quarks and gluons are collectively known as partons. Quantum chromodynamics (QCD) is the theory of strong interaction and describes how color-charged particles behave. As the protons collide, the transfer of momentum causes the interacting partons to accelerate in directions perpendicular to the colliding proton beams. The accelerating partons radiate gluons, which can split into quark-antiquark pairs or radiate even more gluons. This chain reaction produces a shower of partons and they eventually form observable hadrons in a cone-shaped cascade, called a jet. The partons can interact in various interesting ways in the proton-proton collision and to understand these interaction processes, we need to be able to accurately classify the observed jets.\n",
    "\n",
    "Since only the hadron-level information of a jet is available to us, we must infer the initiating parton of a jet from certain observable properties. Traditionally in the CMS collaboration, the task of identifying quark and gluon jets has been done by building a likelihood-based discriminator from three theoretically-motivated variables (see the public physics analysis summary _CMS-PAS-JME-13-002_ for more detailed information).\n",
    "\n",
    "Let's have a look at these three variables by plotting histograms.\n"
   ]
  },
  {
   "cell_type": "code",
   "execution_count": 7,
   "metadata": {},
   "outputs": [],
   "source": [
    "# First remove all the other types of jets from the data except the gluon and the light quark (UDS) jets\n",
    "df = df[(df.isPhysG==1) | (df.isPhysUDS==1)].reset_index()"
   ]
  },
  {
   "cell_type": "code",
   "execution_count": 8,
   "metadata": {},
   "outputs": [
    {
     "data": {
      "image/png": "[encoded data removed]",
      "text/plain": [
       "<Figure size 2000x1000 with 3 Axes>"
      ]
     },
     "metadata": {},
     "output_type": "display_data"
    }
   ],
   "source": [
    "hist_columns = ['QG_mult','QG_ptD','QG_axis2']\n",
    "binnings = [np.arange(0,70,2), np.arange(0.0,1.0,0.04), np.arange(0.0,0.2,0.01)]\n",
    "ind = 0\n",
    "fig, axes = plt.subplots(1, 3, figsize=(20,10))\n",
    "\n",
    "for column in hist_columns:\n",
    "    axes[ind].hist( df[df.isPhysG==1][column], bins=binnings[ind], alpha=0.8, label='Gluon', density=1 )\n",
    "    axes[ind].hist( df[df.isPhysUDS==1][column], bins=binnings[ind], alpha=0.8, label='Quark', density=1 )\n",
    "    axes[ind].set_xlabel(column)\n",
    "    axes[ind].legend()\n",
    "    ind = ind+1"
   ]
  },
  {
   "cell_type": "markdown",
   "metadata": {},
   "source": [
    "From left to right these variables are the __jet multiplicity (QG_mult)__, the __jet momentum distribution variable (QG_ptD)__ and the __jet minor axis (QG_axis2)__. The distributions display statistical differences between the two types of jets.\n",
    "\n",
    "__Jet multiplicity__ is the number of particles contained in the jet (subject to certain constraints on the properties of the particles, see _CMS-PAS-JME-13-002_ again). Gluons are expected to radiate more intensely, so on average gluon jets contain more particles.\n",
    "\n",
    "The __jet momentum distribution variable__ is defined as $p_T D = \\frac{\\sqrt{\\sum_i p_{T,i}^2}}{\\sum_i p_{T,i}}$, where $p_{T,i}$ is the transverse momentum of a particle and the sum _i_ is over the jet's constituents. It describes how the total transverse momentum of a jet is distributed to its constituents. Quark jets are expected to have fewer constituents carrying the majority of the jet's momentum, which means that the value of $p_T D$ is on average larger for quark jets.\n",
    "\n",
    "The __jet minor axis__ (often also denoted by $\\sigma_2$) describes the width of the jet when it is approximated as an ellipse. Gluon jets are on average wider than quark jets.\n",
    "\n",
    "In the CMS collaboration, the traditional quark/gluon jet classifier, or discriminator, is based on these three variables. The likelihood-product discriminator is a very simple approach, but also relatively robust and reliable. It assigns a value between zero and one as the probability of a jet originating from a light quark. This value is also contained in the data set for each jet in the __jetQGl__ column. Let's see how it looks."
   ]
  },
  {
   "cell_type": "code",
   "execution_count": 9,
   "metadata": {},
   "outputs": [
    {
     "data": {
      "image/png": "[encoded data removed]",
      "text/plain": [
       "<Figure size 640x480 with 1 Axes>"
      ]
     },
     "metadata": {},
     "output_type": "display_data"
    }
   ],
   "source": [
    "plt.clf()\n",
    "binning = np.arange(0.0, 1.0, 0.04)\n",
    "plt.hist( df[df.isPhysG==1]['jetQGl'], bins=binning, alpha=0.8, label='Gluon', density=1 )\n",
    "plt.hist( df[df.isPhysUDS==1]['jetQGl'], bins=binning, alpha=0.8, label='Quark', density=1 )\n",
    "plt.legend()\n",
    "plt.xlabel('Discriminator output')\n",
    "plt.title('Quark/gluon likelihood');"
   ]
  },
  {
   "cell_type": "markdown",
   "metadata": {},
   "source": [
    "As can be seen, the discriminator can certainly be improved. In the case of a perfect discriminator, the output for all the gluon jets would be zero and for all the quark jets it would one. One characteristic problem of the likelihood-based approach is the assumption that the variables are uncorrelated. In this case they are not, so let's try to improve upon the discriminator by utilizing deep learning methods.\n",
    "\n",
    "## Training a simple DNN classifier\n",
    "\n",
    "Let's start by randomly dividing the data set into training and test sets. Our target output for the deep neural network is the __isPhysUDS__ column, the value of which is one for light quark jets and zero for gluon jets. Hence the output will be similar to the likelihood discriminator, allowing us to directly compare their performance. "
   ]
  },
  {
   "cell_type": "code",
   "execution_count": 10,
   "metadata": {},
   "outputs": [],
   "source": [
    "from sklearn.model_selection import train_test_split\n",
    "\n",
    "train, test = train_test_split(df, test_size=0.2, random_state=42)\n",
    "\n",
    "train_y = train.isPhysUDS\n",
    "test_y = test.isPhysUDS"
   ]
  },
  {
   "cell_type": "markdown",
   "metadata": {},
   "source": [
    "Next we choose the input features for the neural network. In addition to the aforementioned three variables, let's add the transverse momentum of the jet (__jetPT__) and the pseudorapidity of the jet (__jetEta__). The pseudorapidity is related to the polar angle of the jet's direction in the cylindrical coordinate system of the CMS detector.\n",
    "\n",
    "We will also perform some basic preprocessing in the form of normalizing the input features by columnwise subtraction of the mean and division by the standard deviation."
   ]
  },
  {
   "cell_type": "code",
   "execution_count": 11,
   "metadata": {},
   "outputs": [],
   "source": [
    "input_features = ['jetPt', 'jetEta', 'QG_mult', 'QG_ptD', 'QG_axis2']\n",
    "\n",
    "train_x = train[input_features]\n",
    "test_x = test[input_features]\n",
    "\n",
    "# Normalize the features\n",
    "train_x_mean = train_x.mean()\n",
    "train_x_std = train_x.std()\n",
    "\n",
    "train_x = (train_x - train_x_mean) / train_x_std\n",
    "test_x = (test_x - train_x_mean) / train_x_std"
   ]
  },
  {
   "cell_type": "markdown",
   "metadata": {},
   "source": [
    "We are ready to build and train our neural network model."
   ]
  },
  {
   "cell_type": "code",
   "execution_count": 14,
   "metadata": {},
   "outputs": [
    {
     "name": "stdout",
     "output_type": "stream",
     "text": [
      "[0.81186169 1.30163743]\n",
      "Epoch 1/20\n",
      "70/70 [==============================] - 1s 4ms/step - loss: 0.5977 - accuracy: 0.7283 - val_loss: 0.5356 - val_accuracy: 0.7314\n",
      "Epoch 2/20\n",
      "70/70 [==============================] - 0s 2ms/step - loss: 0.5318 - accuracy: 0.7433 - val_loss: 0.5258 - val_accuracy: 0.7439\n",
      "Epoch 3/20\n",
      "70/70 [==============================] - 0s 2ms/step - loss: 0.5283 - accuracy: 0.7441 - val_loss: 0.4991 - val_accuracy: 0.7570\n",
      "Epoch 4/20\n",
      "70/70 [==============================] - 0s 2ms/step - loss: 0.5236 - accuracy: 0.7506 - val_loss: 0.5060 - val_accuracy: 0.7534\n",
      "Epoch 5/20\n",
      "70/70 [==============================] - 0s 2ms/step - loss: 0.5223 - accuracy: 0.7515 - val_loss: 0.5083 - val_accuracy: 0.7543\n",
      "Epoch 6/20\n",
      "70/70 [==============================] - 0s 2ms/step - loss: 0.5214 - accuracy: 0.7527 - val_loss: 0.5208 - val_accuracy: 0.7489\n",
      "Epoch 7/20\n",
      "70/70 [==============================] - 0s 2ms/step - loss: 0.5183 - accuracy: 0.7545 - val_loss: 0.5309 - val_accuracy: 0.7435\n",
      "Epoch 8/20\n",
      "70/70 [==============================] - 0s 2ms/step - loss: 0.5189 - accuracy: 0.7520 - val_loss: 0.5010 - val_accuracy: 0.7552\n",
      "Epoch 9/20\n",
      "70/70 [==============================] - 0s 2ms/step - loss: 0.5167 - accuracy: 0.7539 - val_loss: 0.5222 - val_accuracy: 0.7480\n",
      "Epoch 10/20\n",
      "70/70 [==============================] - 0s 2ms/step - loss: 0.5181 - accuracy: 0.7495 - val_loss: 0.5057 - val_accuracy: 0.7556\n",
      "Epoch 11/20\n",
      "70/70 [==============================] - 0s 2ms/step - loss: 0.5158 - accuracy: 0.7512 - val_loss: 0.5103 - val_accuracy: 0.7552\n",
      "Epoch 12/20\n",
      "70/70 [==============================] - 0s 2ms/step - loss: 0.5142 - accuracy: 0.7553 - val_loss: 0.4977 - val_accuracy: 0.7561\n",
      "Epoch 13/20\n",
      "70/70 [==============================] - 0s 3ms/step - loss: 0.5153 - accuracy: 0.7539 - val_loss: 0.5072 - val_accuracy: 0.7552\n",
      "Epoch 14/20\n",
      "70/70 [==============================] - 0s 2ms/step - loss: 0.5151 - accuracy: 0.7522 - val_loss: 0.5108 - val_accuracy: 0.7552\n",
      "Epoch 15/20\n",
      "70/70 [==============================] - 0s 2ms/step - loss: 0.5142 - accuracy: 0.7551 - val_loss: 0.4960 - val_accuracy: 0.7565\n",
      "Epoch 16/20\n",
      "70/70 [==============================] - 0s 2ms/step - loss: 0.5143 - accuracy: 0.7544 - val_loss: 0.4951 - val_accuracy: 0.7583\n",
      "Epoch 17/20\n",
      "70/70 [==============================] - 0s 2ms/step - loss: 0.5141 - accuracy: 0.7556 - val_loss: 0.5140 - val_accuracy: 0.7525\n",
      "Epoch 18/20\n",
      "70/70 [==============================] - 0s 2ms/step - loss: 0.5110 - accuracy: 0.7524 - val_loss: 0.4962 - val_accuracy: 0.7579\n",
      "Epoch 19/20\n",
      "70/70 [==============================] - 0s 2ms/step - loss: 0.5111 - accuracy: 0.7565 - val_loss: 0.5044 - val_accuracy: 0.7561\n",
      "Epoch 20/20\n",
      "70/70 [==============================] - 0s 2ms/step - loss: 0.5106 - accuracy: 0.7531 - val_loss: 0.4974 - val_accuracy: 0.7556\n"
     ]
    }
   ],
   "source": [
    "from keras.models import Model, Sequential\n",
    "from keras.layers import Input, Dense, Dropout\n",
    "from sklearn.utils import class_weight\n",
    "\n",
    "# Define the DNN architecture\n",
    "model = Sequential()\n",
    "model.add(Dense(100, kernel_initializer='normal', activation='relu', input_dim=train_x.shape[1]))\n",
    "model.add(Dropout(0.2))\n",
    "model.add(Dense(100, kernel_initializer='normal', activation='relu'))\n",
    "model.add(Dropout(0.2))\n",
    "model.add(Dense(50, kernel_initializer='normal', activation='relu'))\n",
    "model.add(Dense(1, kernel_initializer='normal', activation='sigmoid'))\n",
    "model.compile(optimizer='Nadam', loss='binary_crossentropy', metrics=['accuracy'])\n",
    "\n",
    "#model.summary()\n",
    "\n",
    "# Weight the training samples so that there is equal weight on gluon and quark jets\n",
    "# even if there are different amount of them in the training set\n",
    "class_weights = class_weight.compute_class_weight(\n",
    "    class_weight='balanced',\n",
    "    classes=np.unique(train_y),\n",
    "    y=train_y\n",
    ")\n",
    "\n",
    "print(class_weights)\n",
    "\n",
    "# Train the model\n",
    "model.fit(train_x,\n",
    "          train_y,\n",
    "          epochs=20,\n",
    "          batch_size=128,\n",
    "          class_weight=dict(enumerate(class_weights)),\n",
    "          validation_split=0.2,\n",
    "          shuffle=True,\n",
    "          verbose=1);"
   ]
  },
  {
   "cell_type": "markdown",
   "metadata": {},
   "source": [
    "Let's see how the trained model performs by first creating predictions for the test set and plotting the classifier output."
   ]
  },
  {
   "cell_type": "code",
   "execution_count": 15,
   "metadata": {},
   "outputs": [
    {
     "name": "stdout",
     "output_type": "stream",
     "text": [
      "87/87 [==============================] - 0s 700us/step\n"
     ]
    },
    {
     "data": {
      "image/png": "[encoded data removed]",
      "text/plain": [
       "<Figure size 640x480 with 1 Axes>"
      ]
     },
     "metadata": {},
     "output_type": "display_data"
    }
   ],
   "source": [
    "pred_y = model.predict(test_x)\n",
    "\n",
    "plt.clf()\n",
    "binning = np.arange(0.0, 1.0, 0.04)\n",
    "plt.hist( pred_y[test_y==0], bins=binning, alpha=0.8, label=\"Gluons\", density=1 )\n",
    "plt.hist( pred_y[test_y==1], bins=binning, alpha=0.8, label=\"Quarks\", density=1 )\n",
    "plt.legend()\n",
    "plt.xlabel('DNN output value')\n",
    "plt.title('Simple DNN classifier');"
   ]
  },
  {
   "cell_type": "markdown",
   "metadata": {},
   "source": [
    "In order to fairly compare our newly trained model and the traditional likelihood discriminator, we should look at the corresponding receiver operating characteristic (ROC) curves. The larger the area under the curve (AUC), the better the performance of the classifier."
   ]
  },
  {
   "cell_type": "code",
   "execution_count": 16,
   "metadata": {},
   "outputs": [
    {
     "data": {
      "image/png": "[encoded data removed]",
      "text/plain": [
       "<Figure size 640x480 with 1 Axes>"
      ]
     },
     "metadata": {},
     "output_type": "display_data"
    }
   ],
   "source": [
    "from sklearn.metrics import roc_auc_score, roc_curve, auc\n",
    "\n",
    "fpr_dnn, tpr_dnn, thresholds_dnn  = roc_curve(test_y, pred_y)\n",
    "roc_auc_dnn = auc(fpr_dnn, tpr_dnn)\n",
    "\n",
    "fpr_qgl, tpr_qgl, thresholds_qgl = roc_curve(test_y, test.jetQGl)\n",
    "roc_auc_qgl = auc(fpr_qgl, tpr_qgl)\n",
    "\n",
    "plt.clf()\n",
    "plt.plot(fpr_dnn, tpr_dnn, 'b', label='Simple DNN classifier, AUC = %0.2f'% roc_auc_dnn)\n",
    "plt.plot(fpr_qgl, tpr_qgl, 'r', label='Likelihood discriminator, AUC = %0.2f'% roc_auc_qgl)\n",
    "plt.plot([0,1], [0,1], 'k--')\n",
    "plt.xlim([0.0, 1.0])\n",
    "plt.ylim([0.0, 1.0])\n",
    "plt.legend(loc = 'lower right')\n",
    "plt.title(\"Receiver operating characteristic\")\n",
    "plt.ylabel('Quark jet acceptance rate')\n",
    "plt.xlabel('Gluon jet acceptance rate');"
   ]
  },
  {
   "cell_type": "markdown",
   "metadata": {},
   "source": [
    "With higher ROC AUC value, we find that our newly trained classifier is better at the task in comparison to the likelihood discriminator.\n",
    "\n",
    "This notebook provided just a quick introduction on the matter with a very simple neural network model using only a small portion of the full CMS OpenData QCD jet data set. The true strength of utilizing deep neural networks for this task was not demonstrated here, as it lies in the neural networks' ability of finding more subtle differences between the two types of jets in lower level features. Hence, by incorporating more information on e.g. the particle-level, we could build an even better DNN jet classifier. All in all, the field of jet physics is rife with exciting opportunities for machine learning applications, and the classification task presented here is just one of them. "
   ]
  },
  {
   "cell_type": "code",
   "execution_count": null,
   "metadata": {},
   "outputs": [],
   "source": []
  }
 ],
 "metadata": {
  "kernelspec": {
   "display_name": "Python 3 (ipykernel)",
   "language": "python",
   "name": "python3"
  },
  "language_info": {
   "codemirror_mode": {
    "name": "ipython",
    "version": 3
   },
   "file_extension": ".py",
   "mimetype": "text/x-python",
   "name": "python",
   "nbconvert_exporter": "python",
   "pygments_lexer": "ipython3",
   "version": "3.8.19"
  },
  "widgets": {
   "state": {
    "08a6f31b9a8c4a029404f1aaf223f74a": {
     "views": [
      {
       "cell_index": 9
      }
     ]
    },
    "0d1e8b990608488193406b09b99a5e92": {
     "views": [
      {
       "cell_index": 9
      }
     ]
    },
    "20fb655374694404809ec4d213f8e7d6": {
     "views": [
      {
       "cell_index": 9
      }
     ]
    },
    "2212de19566f4041b5ebe53a9fda84ec": {
     "views": [
      {
       "cell_index": 14
      }
     ]
    },
    "599e0a034ef64d9fae2ae6ab96977ad4": {
     "views": [
      {
       "cell_index": 9
      }
     ]
    },
    "5b0ff9987cb348ef8643374a849056ba": {
     "views": [
      {
       "cell_index": 14
      }
     ]
    },
    "5efe7190f5b04d739ff952cf2568d5b9": {
     "views": [
      {
       "cell_index": 9
      }
     ]
    },
    "6a1a2dcc5c104c1691cb6db155d0ff2d": {
     "views": [
      {
       "cell_index": 9
      }
     ]
    },
    "a66855a84a6647e4973583b782e299eb": {
     "views": [
      {
       "cell_index": 14
      }
     ]
    },
    "aaacce64a9ab457faaf6c877d9e4d016": {
     "views": [
      {
       "cell_index": 9
      }
     ]
    },
    "b4fe8611ac364e2195a4192ff95554db": {
     "views": [
      {
       "cell_index": 14
      }
     ]
    },
    "b89afc9a81fb41f7a6210b8f41d225c5": {
     "views": [
      {
       "cell_index": 14
      }
     ]
    },
    "c0504b8d91a344d69adc3c8ad57409d4": {
     "views": [
      {
       "cell_index": 9
      }
     ]
    },
    "d1b34b9722fd48dea752c72d5090baef": {
     "views": [
      {
       "cell_index": 9
      }
     ]
    },
    "deeef71954134001853319ac11d27f96": {
     "views": [
      {
       "cell_index": 14
      }
     ]
    },
    "fcdd1c99847343b89ac7e9ede4887567": {
     "views": [
      {
       "cell_index": 14
      }
     ]
    },
    "fd877073ebbe4aaba1567d9b6631d03b": {
     "views": [
      {
       "cell_index": 9
      }
     ]
    },
    "ff6d2301d4354a61bca3e452e0b7b871": {
     "views": [
      {
       "cell_index": 9
      }
     ]
    }
   },
   "version": "1.2.0"
  }
 },
 "nbformat": 4,
 "nbformat_minor": 4
}
